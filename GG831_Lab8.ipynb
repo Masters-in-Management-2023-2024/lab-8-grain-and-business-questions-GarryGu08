{
  "cells": [
    {
      "cell_type": "markdown",
      "metadata": {
        "id": "RXi8fLbL128W"
      },
      "source": [
        "# Diamond Company Analytics Challenge\n",
        "\n",
        "**Time:** 35 minutes\n",
        "\n",
        "**Scenario:** You are the new data analyst at a prestigious diamond company. The CEO has called an urgent meeting and needs answers to critical business questions about the inventory.\n",
        "\n",
        "**Your Mission:** Analyze the diamond inventory data and provide insights to guide strategic decisions."
      ]
    },
    {
      "cell_type": "code",
      "execution_count": 2,
      "metadata": {
        "id": "Dkvt8bIT128c",
        "colab": {
          "base_uri": "https://localhost:8080/"
        },
        "outputId": "a6ef557e-60dd-4439-b3f1-0333928fb928"
      },
      "outputs": [
        {
          "output_type": "stream",
          "name": "stdout",
          "text": [
            "Loading diamonds dataset...\n",
            "Dataset loaded successfully!\n"
          ]
        }
      ],
      "source": [
        "import polars as pl\n",
        "\n",
        "# Load the diamonds dataset\n",
        "print(\"Loading diamonds dataset...\")\n",
        "df = pl.read_csv('https://raw.githubusercontent.com/pycaret/pycaret/master/datasets/diamond.csv')\n",
        "print(\"Dataset loaded successfully!\")"
      ]
    },
    {
      "cell_type": "markdown",
      "metadata": {
        "id": "AJPt0g0E128e"
      },
      "source": [
        "## Section 1: Initial Inventory Assessment (5 minutes)\n",
        "\n",
        "The CEO walks in: \"Before we dive into specifics, I need to understand what we're working with. Give me the basics about our inventory database.\""
      ]
    },
    {
      "cell_type": "markdown",
      "metadata": {
        "id": "tlvicSs_128f"
      },
      "source": [
        "### Question 1: \"How extensive is our inventory database?\"\n",
        "\n",
        "The CEO needs to know the scale of data you're analyzing."
      ]
    },
    {
      "cell_type": "code",
      "execution_count": null,
      "metadata": {
        "id": "w3EQLJ23128g",
        "colab": {
          "base_uri": "https://localhost:8080/",
          "height": 289
        },
        "outputId": "b01784e2-1e39-4100-f283-0617f77e6a98"
      },
      "outputs": [
        {
          "output_type": "stream",
          "name": "stdout",
          "text": [
            "Shape: (6000, 8)\n",
            "Columns: ['Carat Weight', 'Cut', 'Color', 'Clarity', 'Polish', 'Symmetry', 'Report', 'Price']\n"
          ]
        },
        {
          "output_type": "execute_result",
          "data": {
            "text/plain": [
              "shape: (5, 8)\n",
              "┌──────────────┬───────┬───────┬─────────┬────────┬──────────┬────────┬───────┐\n",
              "│ Carat Weight ┆ Cut   ┆ Color ┆ Clarity ┆ Polish ┆ Symmetry ┆ Report ┆ Price │\n",
              "│ ---          ┆ ---   ┆ ---   ┆ ---     ┆ ---    ┆ ---      ┆ ---    ┆ ---   │\n",
              "│ f64          ┆ str   ┆ str   ┆ str     ┆ str    ┆ str      ┆ str    ┆ i64   │\n",
              "╞══════════════╪═══════╪═══════╪═════════╪════════╪══════════╪════════╪═══════╡\n",
              "│ 1.1          ┆ Ideal ┆ H     ┆ SI1     ┆ VG     ┆ EX       ┆ GIA    ┆ 5169  │\n",
              "│ 0.83         ┆ Ideal ┆ H     ┆ VS1     ┆ ID     ┆ ID       ┆ AGSL   ┆ 3470  │\n",
              "│ 0.85         ┆ Ideal ┆ H     ┆ SI1     ┆ EX     ┆ EX       ┆ GIA    ┆ 3183  │\n",
              "│ 0.91         ┆ Ideal ┆ E     ┆ SI1     ┆ VG     ┆ VG       ┆ GIA    ┆ 4370  │\n",
              "│ 0.83         ┆ Ideal ┆ G     ┆ SI1     ┆ EX     ┆ EX       ┆ GIA    ┆ 3171  │\n",
              "└──────────────┴───────┴───────┴─────────┴────────┴──────────┴────────┴───────┘"
            ],
            "text/html": [
              "<div><style>\n",
              ".dataframe > thead > tr,\n",
              ".dataframe > tbody > tr {\n",
              "  text-align: right;\n",
              "  white-space: pre-wrap;\n",
              "}\n",
              "</style>\n",
              "<small>shape: (5, 8)</small><table border=\"1\" class=\"dataframe\"><thead><tr><th>Carat Weight</th><th>Cut</th><th>Color</th><th>Clarity</th><th>Polish</th><th>Symmetry</th><th>Report</th><th>Price</th></tr><tr><td>f64</td><td>str</td><td>str</td><td>str</td><td>str</td><td>str</td><td>str</td><td>i64</td></tr></thead><tbody><tr><td>1.1</td><td>&quot;Ideal&quot;</td><td>&quot;H&quot;</td><td>&quot;SI1&quot;</td><td>&quot;VG&quot;</td><td>&quot;EX&quot;</td><td>&quot;GIA&quot;</td><td>5169</td></tr><tr><td>0.83</td><td>&quot;Ideal&quot;</td><td>&quot;H&quot;</td><td>&quot;VS1&quot;</td><td>&quot;ID&quot;</td><td>&quot;ID&quot;</td><td>&quot;AGSL&quot;</td><td>3470</td></tr><tr><td>0.85</td><td>&quot;Ideal&quot;</td><td>&quot;H&quot;</td><td>&quot;SI1&quot;</td><td>&quot;EX&quot;</td><td>&quot;EX&quot;</td><td>&quot;GIA&quot;</td><td>3183</td></tr><tr><td>0.91</td><td>&quot;Ideal&quot;</td><td>&quot;E&quot;</td><td>&quot;SI1&quot;</td><td>&quot;VG&quot;</td><td>&quot;VG&quot;</td><td>&quot;GIA&quot;</td><td>4370</td></tr><tr><td>0.83</td><td>&quot;Ideal&quot;</td><td>&quot;G&quot;</td><td>&quot;SI1&quot;</td><td>&quot;EX&quot;</td><td>&quot;EX&quot;</td><td>&quot;GIA&quot;</td><td>3171</td></tr></tbody></table></div>"
            ]
          },
          "metadata": {},
          "execution_count": 2
        }
      ],
      "source": [
        "# Your code here:\n",
        "import polars as pl\n",
        "df = pl.read_csv('https://raw.githubusercontent.com/pycaret/pycaret/master/datasets/diamond.csv')\n",
        "\n",
        "print(f\"Shape: {df.shape}\")\n",
        "print(f\"Columns: {df.columns}\")\n",
        "df.head()\n",
        "\n",
        "\n",
        "\n",
        "\n"
      ]
    },
    {
      "cell_type": "markdown",
      "metadata": {
        "id": "qcyVnGu6128h"
      },
      "source": [
        "### Question 2: \"What information do we track about each diamond?\"\n",
        "\n",
        "List all the characteristics we record."
      ]
    },
    {
      "cell_type": "code",
      "execution_count": null,
      "metadata": {
        "id": "jFUDvvKb128j",
        "colab": {
          "base_uri": "https://localhost:8080/"
        },
        "outputId": "d02e76ee-467a-40f3-f1f7-7c3b30bc4c83"
      },
      "outputs": [
        {
          "output_type": "stream",
          "name": "stdout",
          "text": [
            "Columns: ['Carat Weight', 'Cut', 'Color', 'Clarity', 'Polish', 'Symmetry', 'Report', 'Price']\n"
          ]
        }
      ],
      "source": [
        "# Your code here:\n",
        "print(f\"Columns: {df.columns}\")"
      ]
    },
    {
      "cell_type": "markdown",
      "metadata": {
        "id": "h9v6ejvC128j"
      },
      "source": [
        "### Question 3: \"When I look at one line in this database, what am I looking at?\"\n",
        "\n",
        "Explain in business terms:"
      ]
    },
    {
      "cell_type": "markdown",
      "metadata": {
        "id": "8GvgUCqK128k"
      },
      "source": [
        "**Your answer:** Each row represents: Each row represents a diamond in our dataset that has 8 specific attributes about it."
      ]
    },
    {
      "cell_type": "markdown",
      "metadata": {
        "id": "wR27h4tD128l"
      },
      "source": [
        "## Section 2: Strategic Business Questions (20 minutes)\n",
        "\n",
        "The CEO continues: \"Now let's get to the important questions. Our board meeting is tomorrow and I need concrete numbers.\""
      ]
    },
    {
      "cell_type": "markdown",
      "metadata": {
        "id": "a0dcQFzg128m"
      },
      "source": [
        "### Question 4: \"We're considering expanding our storage facilities. How many total carats do we have in inventory? I need to know if our vaults can handle the weight.\"\n",
        "\n",
        "Think about what measurement would help answer this."
      ]
    },
    {
      "cell_type": "code",
      "execution_count": null,
      "metadata": {
        "id": "MpXrSLJT128m",
        "colab": {
          "base_uri": "https://localhost:8080/",
          "height": 129
        },
        "outputId": "794c17ce-1480-4390-e055-1505723b3db6"
      },
      "outputs": [
        {
          "output_type": "execute_result",
          "data": {
            "text/plain": [
              "shape: (1, 1)\n",
              "┌──────────────┐\n",
              "│ Carat Weight │\n",
              "│ ---          │\n",
              "│ f64          │\n",
              "╞══════════════╡\n",
              "│ 8007.12      │\n",
              "└──────────────┘"
            ],
            "text/html": [
              "<div><style>\n",
              ".dataframe > thead > tr,\n",
              ".dataframe > tbody > tr {\n",
              "  text-align: right;\n",
              "  white-space: pre-wrap;\n",
              "}\n",
              "</style>\n",
              "<small>shape: (1, 1)</small><table border=\"1\" class=\"dataframe\"><thead><tr><th>Carat Weight</th></tr><tr><td>f64</td></tr></thead><tbody><tr><td>8007.12</td></tr></tbody></table></div>"
            ]
          },
          "metadata": {},
          "execution_count": 27
        }
      ],
      "source": [
        "# Your code here:\n",
        "total_weight = (df.select(pl.col(\"Carat Weight\").sum()))\n",
        "total_weight\n",
        "\n"
      ]
    },
    {
      "cell_type": "markdown",
      "metadata": {
        "id": "gSdP-mEP128n"
      },
      "source": [
        "### Question 5: \"Our new marketing campaign claims we have 'the widest variety of cuts in the industry.' Can you verify this?\"\n",
        "\n",
        "The CEO wants to know about variety, not quantity."
      ]
    },
    {
      "cell_type": "code",
      "execution_count": null,
      "metadata": {
        "id": "FhjxgJ--128n",
        "colab": {
          "base_uri": "https://localhost:8080/",
          "height": 255
        },
        "outputId": "b683b325-15c8-467c-b78d-29414f725d1d"
      },
      "outputs": [
        {
          "output_type": "execute_result",
          "data": {
            "text/plain": [
              "shape: (5, 1)\n",
              "┌─────────────────┐\n",
              "│ Cut             │\n",
              "│ ---             │\n",
              "│ str             │\n",
              "╞═════════════════╡\n",
              "│ Signature-Ideal │\n",
              "│ Very Good       │\n",
              "│ Fair            │\n",
              "│ Ideal           │\n",
              "│ Good            │\n",
              "└─────────────────┘"
            ],
            "text/html": [
              "<div><style>\n",
              ".dataframe > thead > tr,\n",
              ".dataframe > tbody > tr {\n",
              "  text-align: right;\n",
              "  white-space: pre-wrap;\n",
              "}\n",
              "</style>\n",
              "<small>shape: (5, 1)</small><table border=\"1\" class=\"dataframe\"><thead><tr><th>Cut</th></tr><tr><td>str</td></tr></thead><tbody><tr><td>&quot;Signature-Ideal&quot;</td></tr><tr><td>&quot;Very Good&quot;</td></tr><tr><td>&quot;Fair&quot;</td></tr><tr><td>&quot;Ideal&quot;</td></tr><tr><td>&quot;Good&quot;</td></tr></tbody></table></div>"
            ]
          },
          "metadata": {},
          "execution_count": 30
        }
      ],
      "source": [
        "# Your code here:\n",
        "varieties_cut = df.select(pl.col(\"Cut\").unique())\n",
        "varieties_cut\n",
        "\n",
        "\n"
      ]
    },
    {
      "cell_type": "markdown",
      "metadata": {
        "id": "kTc4kRIk128n"
      },
      "source": [
        "### Question 6: \"I'm meeting with our insurance company. They need to know our price exposure - what's our most and least valuable diamond?\""
      ]
    },
    {
      "cell_type": "code",
      "execution_count": 4,
      "metadata": {
        "id": "k1ZHkxxF128o",
        "colab": {
          "base_uri": "https://localhost:8080/"
        },
        "outputId": "2b4c7ad1-e6ed-4ea7-cce2-f076b3b7dc26"
      },
      "outputs": [
        {
          "output_type": "stream",
          "name": "stdout",
          "text": [
            "most valuable: $101,561.00\n",
            "least valuable: $2,184.00\n"
          ]
        }
      ],
      "source": [
        "# Your code here:\n",
        "most_valuable = (df.select(pl.col(\"Price\").max()))[0,0]\n",
        "least_valuable = df.select(pl.col(\"Price\").min())[0,0]\n",
        "print(f\"most valuable: ${most_valuable:,.2f}\")\n",
        "print(f\"least valuable: ${least_valuable:,.2f}\")\n"
      ]
    },
    {
      "cell_type": "markdown",
      "metadata": {
        "id": "IzhDDnsr128o"
      },
      "source": [
        "### Question 7: \"Which color grades should we focus on in our premium line? I need typical prices across our color spectrum.\"\n",
        "\n",
        "The CEO wants to understand pricing patterns."
      ]
    },
    {
      "cell_type": "code",
      "execution_count": 5,
      "metadata": {
        "id": "ZbLIBDZb128o",
        "colab": {
          "base_uri": "https://localhost:8080/",
          "height": 286
        },
        "outputId": "11f82cb2-ee17-4714-b7d3-b67c6bad6f68"
      },
      "outputs": [
        {
          "output_type": "execute_result",
          "data": {
            "text/plain": [
              "shape: (6, 2)\n",
              "┌───────┬────────────────────────┐\n",
              "│ Color ┆ typical_price_by_color │\n",
              "│ ---   ┆ ---                    │\n",
              "│ str   ┆ f64                    │\n",
              "╞═══════╪════════════════════════╡\n",
              "│ D     ┆ 15255.78               │\n",
              "│ F     ┆ 12712.24               │\n",
              "│ I     ┆ 8989.64                │\n",
              "│ H     ┆ 10487.35               │\n",
              "│ E     ┆ 11539.19               │\n",
              "│ G     ┆ 12520.05               │\n",
              "└───────┴────────────────────────┘"
            ],
            "text/html": [
              "<div><style>\n",
              ".dataframe > thead > tr,\n",
              ".dataframe > tbody > tr {\n",
              "  text-align: right;\n",
              "  white-space: pre-wrap;\n",
              "}\n",
              "</style>\n",
              "<small>shape: (6, 2)</small><table border=\"1\" class=\"dataframe\"><thead><tr><th>Color</th><th>typical_price_by_color</th></tr><tr><td>str</td><td>f64</td></tr></thead><tbody><tr><td>&quot;D&quot;</td><td>15255.78</td></tr><tr><td>&quot;F&quot;</td><td>12712.24</td></tr><tr><td>&quot;I&quot;</td><td>8989.64</td></tr><tr><td>&quot;H&quot;</td><td>10487.35</td></tr><tr><td>&quot;E&quot;</td><td>11539.19</td></tr><tr><td>&quot;G&quot;</td><td>12520.05</td></tr></tbody></table></div>"
            ]
          },
          "metadata": {},
          "execution_count": 5
        }
      ],
      "source": [
        "# Your code here:\n",
        "grouped_price = df.group_by(pl.col(\"Color\")).agg(pl.col(\"Price\").mean().alias(\"typical_price_by_color\").round(2))\n",
        "grouped_price"
      ]
    },
    {
      "cell_type": "markdown",
      "metadata": {
        "id": "HrGdBuXk128o"
      },
      "source": [
        "**Reflection:** After analyzing by color, how has your view of the data changed? What does each row in your result represent now?"
      ]
    },
    {
      "cell_type": "markdown",
      "metadata": {
        "id": "X4gU6JBu128o"
      },
      "source": [
        "**Your answer:** New grain = The new dataset's grain involves a group of data, in this case by diamond colors and their respective average prices."
      ]
    },
    {
      "cell_type": "markdown",
      "metadata": {
        "id": "YbkudGx-128o"
      },
      "source": [
        "## Section 3: Advanced Strategic Analysis (10 minutes)\n",
        "\n",
        "The CEO leans forward: \"These next questions will shape our strategy for next year.\""
      ]
    },
    {
      "cell_type": "markdown",
      "metadata": {
        "id": "lgRFDTs5128p"
      },
      "source": [
        "### Question 8: \"We're thinking of specializing in certain clarity grades. For our investor deck, I need a complete breakdown showing: how many diamonds we have in each clarity grade, their typical price, and the total carats we're holding for each grade.\""
      ]
    },
    {
      "cell_type": "code",
      "execution_count": 6,
      "metadata": {
        "id": "zXP-E0_2128p",
        "colab": {
          "base_uri": "https://localhost:8080/",
          "height": 317
        },
        "outputId": "ab47f9bb-cad8-4955-fc03-7253ccb5525a"
      },
      "outputs": [
        {
          "output_type": "execute_result",
          "data": {
            "text/plain": [
              "shape: (7, 4)\n",
              "┌─────────┬────────────────────┬───────────────┬────────────────────┐\n",
              "│ Clarity ┆ number_of_diamonds ┆ typical_price ┆ total_carat_weight │\n",
              "│ ---     ┆ ---                ┆ ---           ┆ ---                │\n",
              "│ str     ┆ u32                ┆ f64           ┆ f64                │\n",
              "╞═════════╪════════════════════╪═══════════════╪════════════════════╡\n",
              "│ VS1     ┆ 1192               ┆ 13694.113255  ┆ 1682.74            │\n",
              "│ VVS2    ┆ 666                ┆ 14142.177177  ┆ 876.58             │\n",
              "│ VS2     ┆ 1575               ┆ 11809.053333  ┆ 2170.81            │\n",
              "│ VVS1    ┆ 285                ┆ 16845.680702  ┆ 389.43             │\n",
              "│ IF      ┆ 219                ┆ 22105.844749  ┆ 316.0              │\n",
              "│ FL      ┆ 4                  ┆ 63776.0       ┆ 7.87               │\n",
              "│ SI1     ┆ 2059               ┆ 8018.864012   ┆ 2563.69            │\n",
              "└─────────┴────────────────────┴───────────────┴────────────────────┘"
            ],
            "text/html": [
              "<div><style>\n",
              ".dataframe > thead > tr,\n",
              ".dataframe > tbody > tr {\n",
              "  text-align: right;\n",
              "  white-space: pre-wrap;\n",
              "}\n",
              "</style>\n",
              "<small>shape: (7, 4)</small><table border=\"1\" class=\"dataframe\"><thead><tr><th>Clarity</th><th>number_of_diamonds</th><th>typical_price</th><th>total_carat_weight</th></tr><tr><td>str</td><td>u32</td><td>f64</td><td>f64</td></tr></thead><tbody><tr><td>&quot;VS1&quot;</td><td>1192</td><td>13694.113255</td><td>1682.74</td></tr><tr><td>&quot;VVS2&quot;</td><td>666</td><td>14142.177177</td><td>876.58</td></tr><tr><td>&quot;VS2&quot;</td><td>1575</td><td>11809.053333</td><td>2170.81</td></tr><tr><td>&quot;VVS1&quot;</td><td>285</td><td>16845.680702</td><td>389.43</td></tr><tr><td>&quot;IF&quot;</td><td>219</td><td>22105.844749</td><td>316.0</td></tr><tr><td>&quot;FL&quot;</td><td>4</td><td>63776.0</td><td>7.87</td></tr><tr><td>&quot;SI1&quot;</td><td>2059</td><td>8018.864012</td><td>2563.69</td></tr></tbody></table></div>"
            ]
          },
          "metadata": {},
          "execution_count": 6
        }
      ],
      "source": [
        "# Your code here:\n",
        "import polars as pl\n",
        "\n",
        "number_of_diamonds_per_clarity = df.group_by(pl.col(\"Clarity\")).agg(\n",
        "    pl.len().alias(\"number_of_diamonds\"),\n",
        "    pl.col(\"Price\").mean().alias(\"typical_price\"),\n",
        "    pl.col(\"Carat Weight\").sum().alias(\"total_carat_weight\")\n",
        ")\n",
        "number_of_diamonds_per_clarity\n",
        "\n",
        "\n"
      ]
    },
    {
      "cell_type": "markdown",
      "metadata": {
        "id": "ceCTutsN128p"
      },
      "source": [
        "### Question 9: \"My luxury competitor claims they have the best prices for every cut-color combination. Show me our pricing structure across these combinations - I want to see where we're competitive.\""
      ]
    },
    {
      "cell_type": "code",
      "execution_count": null,
      "metadata": {
        "id": "5QgWXCoq128p",
        "colab": {
          "base_uri": "https://localhost:8080/",
          "height": 443
        },
        "outputId": "c277d169-29b2-4a77-a420-83496cde0155"
      },
      "outputs": [
        {
          "output_type": "execute_result",
          "data": {
            "text/plain": [
              "shape: (30, 3)\n",
              "┌───────────┬───────┬──────────────┐\n",
              "│ Cut       ┆ Color ┆ set_price    │\n",
              "│ ---       ┆ ---   ┆ ---          │\n",
              "│ str       ┆ str   ┆ f64          │\n",
              "╞═══════════╪═══════╪══════════════╡\n",
              "│ Fair      ┆ F     ┆ 6063.625     │\n",
              "│ Fair      ┆ E     ┆ 5370.625     │\n",
              "│ Fair      ┆ H     ┆ 5908.5       │\n",
              "│ Fair      ┆ G     ┆ 7345.52381   │\n",
              "│ Fair      ┆ D     ┆ 6058.25      │\n",
              "│ …         ┆ …     ┆ …            │\n",
              "│ Very Good ┆ H     ┆ 10056.106132 │\n",
              "│ Very Good ┆ D     ┆ 13218.826415 │\n",
              "│ Very Good ┆ E     ┆ 12101.910217 │\n",
              "│ Very Good ┆ I     ┆ 8930.031332  │\n",
              "│ Very Good ┆ G     ┆ 12354.013841 │\n",
              "└───────────┴───────┴──────────────┘"
            ],
            "text/html": [
              "<div><style>\n",
              ".dataframe > thead > tr,\n",
              ".dataframe > tbody > tr {\n",
              "  text-align: right;\n",
              "  white-space: pre-wrap;\n",
              "}\n",
              "</style>\n",
              "<small>shape: (30, 3)</small><table border=\"1\" class=\"dataframe\"><thead><tr><th>Cut</th><th>Color</th><th>set_price</th></tr><tr><td>str</td><td>str</td><td>f64</td></tr></thead><tbody><tr><td>&quot;Fair&quot;</td><td>&quot;F&quot;</td><td>6063.625</td></tr><tr><td>&quot;Fair&quot;</td><td>&quot;E&quot;</td><td>5370.625</td></tr><tr><td>&quot;Fair&quot;</td><td>&quot;H&quot;</td><td>5908.5</td></tr><tr><td>&quot;Fair&quot;</td><td>&quot;G&quot;</td><td>7345.52381</td></tr><tr><td>&quot;Fair&quot;</td><td>&quot;D&quot;</td><td>6058.25</td></tr><tr><td>&hellip;</td><td>&hellip;</td><td>&hellip;</td></tr><tr><td>&quot;Very Good&quot;</td><td>&quot;H&quot;</td><td>10056.106132</td></tr><tr><td>&quot;Very Good&quot;</td><td>&quot;D&quot;</td><td>13218.826415</td></tr><tr><td>&quot;Very Good&quot;</td><td>&quot;E&quot;</td><td>12101.910217</td></tr><tr><td>&quot;Very Good&quot;</td><td>&quot;I&quot;</td><td>8930.031332</td></tr><tr><td>&quot;Very Good&quot;</td><td>&quot;G&quot;</td><td>12354.013841</td></tr></tbody></table></div>"
            ]
          },
          "metadata": {},
          "execution_count": 52
        }
      ],
      "source": [
        "from pickle import TRUE\n",
        "# Your code here:\n",
        "combinations = df.group_by([\"Cut\",\"Color\"]).agg(pl.col(\"Price\").mean().alias(\"set_price\")).sort(\"Cut\")\n",
        "combinations.head(50)"
      ]
    },
    {
      "cell_type": "markdown",
      "metadata": {
        "id": "7R4_RFiN128q"
      },
      "source": [
        "**Reflection:** How specific is your analysis now? What level of detail does each row represent?"
      ]
    },
    {
      "cell_type": "markdown",
      "metadata": {
        "id": "7OUnt8WI128q"
      },
      "source": [
        "**Your answer:** New grain = It is relatively speaking less specific as it is now grouped by both their Cut and Color. Each row represents a set of diamonds that fit their color and cut categories and we're also displaying the average price for that set.\n"
      ]
    },
    {
      "cell_type": "markdown",
      "metadata": {
        "id": "j1rCOcTz128q"
      },
      "source": [
        "### Question 10: URGENT - \"Our biggest client is interested in purchasing entire inventory segments. They asked: 'Which color-cut combinations represent your highest total inventory value?' Show me the top 5 most valuable inventory segments by total worth, and include how many diamonds are in each segment.\"\n",
        "\n",
        "This is critical for tomorrow's negotiation."
      ]
    },
    {
      "cell_type": "code",
      "execution_count": 8,
      "metadata": {
        "id": "GGUNi1o2128q",
        "colab": {
          "base_uri": "https://localhost:8080/",
          "height": 255
        },
        "outputId": "4e7451ba-b182-4688-eda3-caf4a38d7394"
      },
      "outputs": [
        {
          "output_type": "execute_result",
          "data": {
            "text/plain": [
              "shape: (5, 4)\n",
              "┌───────────┬───────┬─────────────┬────────────────────┐\n",
              "│ Cut       ┆ Color ┆ total_worth ┆ number_of_diamonds │\n",
              "│ ---       ┆ ---   ┆ ---         ┆ ---                │\n",
              "│ str       ┆ str   ┆ i64         ┆ u32                │\n",
              "╞═══════════╪═══════╪═════════════╪════════════════════╡\n",
              "│ Ideal     ┆ G     ┆ 9363514     ┆ 690                │\n",
              "│ Very Good ┆ G     ┆ 7140620     ┆ 578                │\n",
              "│ Very Good ┆ F     ┆ 5648327     ┆ 455                │\n",
              "│ Ideal     ┆ F     ┆ 5346782     ┆ 363                │\n",
              "│ Ideal     ┆ H     ┆ 5279687     ┆ 458                │\n",
              "└───────────┴───────┴─────────────┴────────────────────┘"
            ],
            "text/html": [
              "<div><style>\n",
              ".dataframe > thead > tr,\n",
              ".dataframe > tbody > tr {\n",
              "  text-align: right;\n",
              "  white-space: pre-wrap;\n",
              "}\n",
              "</style>\n",
              "<small>shape: (5, 4)</small><table border=\"1\" class=\"dataframe\"><thead><tr><th>Cut</th><th>Color</th><th>total_worth</th><th>number_of_diamonds</th></tr><tr><td>str</td><td>str</td><td>i64</td><td>u32</td></tr></thead><tbody><tr><td>&quot;Ideal&quot;</td><td>&quot;G&quot;</td><td>9363514</td><td>690</td></tr><tr><td>&quot;Very Good&quot;</td><td>&quot;G&quot;</td><td>7140620</td><td>578</td></tr><tr><td>&quot;Very Good&quot;</td><td>&quot;F&quot;</td><td>5648327</td><td>455</td></tr><tr><td>&quot;Ideal&quot;</td><td>&quot;F&quot;</td><td>5346782</td><td>363</td></tr><tr><td>&quot;Ideal&quot;</td><td>&quot;H&quot;</td><td>5279687</td><td>458</td></tr></tbody></table></div>"
            ]
          },
          "metadata": {},
          "execution_count": 8
        }
      ],
      "source": [
        "# Your code here:\n",
        "inventory_buy_data = df.group_by([\"Cut\",\"Color\"]).agg(\n",
        "    pl.col(\"Price\").sum().alias(\"total_worth\"), pl.len().alias(\"number_of_diamonds\")).sort(\"total_worth\", descending=True)\n",
        "inventory_buy_data.head(5)"
      ]
    },
    {
      "cell_type": "markdown",
      "metadata": {
        "id": "GDfNcwVX128r"
      },
      "source": [
        "## Debrief\n",
        "\n",
        "Congratulations! You've just completed your first day as the diamond company's data analyst.\n",
        "\n",
        "Remember:\n",
        "- CEOs speak in business language, not technical terms\n",
        "- Always understand what each row represents before analyzing\n",
        "- Business questions contain clues about which operations to use"
      ]
    }
  ],
  "metadata": {
    "kernelspec": {
      "display_name": "Python 3",
      "language": "python",
      "name": "python3"
    },
    "language_info": {
      "codemirror_mode": {
        "name": "ipython",
        "version": 3
      },
      "file_extension": ".py",
      "mimetype": "text/x-python",
      "name": "python",
      "nbconvert_exporter": "python",
      "pygments_lexer": "ipython3",
      "version": "3.12.0"
    },
    "colab": {
      "provenance": []
    }
  },
  "nbformat": 4,
  "nbformat_minor": 0
}